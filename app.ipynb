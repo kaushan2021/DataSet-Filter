{
 "cells": [
  {
   "cell_type": "code",
   "execution_count": null,
   "metadata": {},
   "outputs": [],
   "source": [
    "import pandas as pd\n",
    "df = pd.read_csv('outfit.csv')\n",
    "print(\"Find My Outfit \")\n",
    "\n",
    "#print(df)\n",
    "del df[\"year\"]\n",
    "del df[\"Unnamed: 10\"]\n",
    "del df[\"Unnamed: 11\"]\n",
    "\n",
    "age= int(input(\"Enter Your Age : \"))\n",
    "gender=input(\"Enter Gender (male/female) : \").lower()\n",
    "if gender==\"male\":\n",
    "    if age>=20:\n",
    "        gender=\"Men\"\n",
    "    else:\n",
    "        gender=\"Boys\"\n",
    "elif gender==\"female\":\n",
    "    if age>=20:\n",
    "        gender=\"Women\"\n",
    "    else:\n",
    "        gender=\"Girls\"\n",
    "\n",
    "print(\"----Event List----\")\n",
    "print(\"Casual\")\n",
    "print(\"Ethnic\")\n",
    "print(\"Formal\")\n",
    "print(\"Sports\")\n",
    "event=input(\"Enter Your Occasion : \")\n",
    "\n",
    "print(\"----Season List----\")\n",
    "print(\"Fall\")\n",
    "print(\"Summer\")\n",
    "print(\"Winter\")\n",
    "print(\"Spring\")\n",
    "season=input(\"Enter the Season : \")\n",
    "\n",
    "#Reccomended Topwear\n",
    "print(\"Reccomended Topwear\")\n",
    "topwear = df.loc[\n",
    "    (df['subCategory'] == 'Topwear') & (df['gender'] == gender) & (df['usage'] == event) & (df['season'] == season)]\n",
    "\n",
    "print(topwear)\n",
    "\n",
    "#Reccomended Bottomwear\n",
    "bw = pd.read_csv('outfit.csv')\n",
    "del bw[\"year\"]\n",
    "del bw[\"Unnamed: 10\"]\n",
    "del bw[\"Unnamed: 11\"]\n",
    "print(\"Reccomended Bottomwear\")\n",
    "bottomwear = bw.loc[\n",
    "    (df['subCategory'] == 'Bottomwear') & (df['gender'] == gender) & (df['usage'] == event) & (df['season'] == season)]\n",
    "print(bottomwear)\n",
    "\n",
    "\n",
    "#Reccomended Footwear\n",
    "fw = pd.read_csv('outfit.csv')\n",
    "del fw[\"year\"]\n",
    "del fw[\"Unnamed: 10\"]\n",
    "del fw[\"Unnamed: 11\"]\n",
    "print(\"Reccomended Footwear\")\n",
    "footwear = df.loc[\n",
    "    (df['masterCategory'] == 'Footwear') & (df['gender'] == gender) & (df['usage'] == event) & (df['season'] == season)]\n",
    "print(footwear)\n",
    "\n",
    "\n",
    "\n",
    "\n"
   ]
  },
  {
   "cell_type": "code",
   "execution_count": null,
   "metadata": {},
   "outputs": [],
   "source": [
    "\n"
   ]
  },
  {
   "cell_type": "code",
   "execution_count": null,
   "metadata": {},
   "outputs": [],
   "source": []
  },
  {
   "cell_type": "code",
   "execution_count": null,
   "metadata": {},
   "outputs": [],
   "source": []
  },
  {
   "cell_type": "code",
   "execution_count": null,
   "metadata": {},
   "outputs": [],
   "source": []
  },
  {
   "cell_type": "code",
   "execution_count": null,
   "metadata": {},
   "outputs": [],
   "source": []
  },
  {
   "cell_type": "code",
   "execution_count": null,
   "metadata": {},
   "outputs": [],
   "source": []
  },
  {
   "cell_type": "code",
   "execution_count": null,
   "metadata": {},
   "outputs": [],
   "source": []
  },
  {
   "cell_type": "code",
   "execution_count": null,
   "metadata": {},
   "outputs": [],
   "source": []
  },
  {
   "cell_type": "code",
   "execution_count": null,
   "metadata": {},
   "outputs": [],
   "source": []
  }
 ],
 "metadata": {
  "kernelspec": {
   "display_name": "Python 3",
   "language": "python",
   "name": "python3"
  },
  "language_info": {
   "codemirror_mode": {
    "name": "ipython",
    "version": 3
   },
   "file_extension": ".py",
   "mimetype": "text/x-python",
   "name": "python",
   "nbconvert_exporter": "python",
   "pygments_lexer": "ipython3",
   "version": "3.8.3"
  }
 },
 "nbformat": 4,
 "nbformat_minor": 4
}
